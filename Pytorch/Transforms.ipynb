{
 "cells": [
  {
   "cell_type": "markdown",
   "source": [
    "所有 TorchVision 数据集都包含两个参数：transform修改特征和 target_transform修改标签，它们接受包含转换逻辑的可调用函数。torchvision.transforms模块提供了几种常用的开箱即用的转换方法。"
   ],
   "metadata": {
    "collapsed": false
   },
   "id": "577a61344603cdcc"
  },
  {
   "cell_type": "code",
   "execution_count": 1,
   "outputs": [],
   "source": [
    "import torch\n",
    "from torchvision.transforms import ToTensor,Lambda\n",
    "from torchvision import datasets\n",
    "ds = datasets.FashionMNIST(\n",
    "    root=\"data\",\n",
    "    train=True,\n",
    "    download=True,\n",
    "    transform=ToTensor(),\n",
    "    target_transform=Lambda(lambda y: torch.zeros(10, dtype=torch.float).scatter_(0, torch.tensor(y)))\n",
    ")"
   ],
   "metadata": {
    "collapsed": false,
    "ExecuteTime": {
     "end_time": "2025-07-27T13:43:06.090822Z",
     "start_time": "2025-07-27T13:43:04.219334Z"
    }
   },
   "id": "13731a46f90d5095"
  },
  {
   "cell_type": "markdown",
   "source": [
    "ToTensor 将 PIL 图像或 NumPy 转换ndarray为FloatTensor. 并将图像的像素强度值缩放到 [0., 1.] 范围内\n",
    "ToTensor converts a PIL image or NumPy ndarray into a FloatTensor. and scales the image’s pixel intensity values in the range [0., 1.]"
   ],
   "metadata": {
    "collapsed": false
   },
   "id": "3098b6695f22918e"
  },
  {
   "cell_type": "markdown",
   "source": [
    "### Lambda Transforms"
   ],
   "metadata": {
    "collapsed": false
   },
   "id": "ea7ac98954713180"
  },
  {
   "cell_type": "code",
   "execution_count": 2,
   "outputs": [],
   "source": [
    "target_transform = Lambda(lambda y: torch.zeros(\n",
    "    10, dtype=torch.float).scatter_(dim=0, index=torch.tensor(y), value=1))"
   ],
   "metadata": {
    "collapsed": false,
    "ExecuteTime": {
     "end_time": "2025-07-27T14:09:55.982550Z",
     "start_time": "2025-07-27T14:09:55.973731Z"
    }
   },
   "id": "4d3341215a4ab112"
  },
  {
   "cell_type": "raw",
   "source": [
    "2.1 torch.zeros(10, dtype=torch.float)\n",
    "创建一个长度为 10 的全零浮点张量\n",
    "FashionMNIST 有 10 个类别（0-9），所以需要长度为 10 的向量\n",
    "2.2 scatter_(dim=0, index=torch.tensor(y), value=1)\n",
    "scatter_ 是 PyTorch 的原地操作方法\n",
    "dim=0: 在第 0 维度上进行操作\n",
    "index=torch.tensor(y): 指定要修改的位置（标签值）\n",
    "value=1: 要设置的值"
   ],
   "metadata": {
    "collapsed": false
   },
   "id": "55f6f319ab042d5f"
  },
  {
   "cell_type": "code",
   "execution_count": null,
   "outputs": [],
   "source": [],
   "metadata": {
    "collapsed": false
   },
   "id": "749722fce42dd079"
  },
  {
   "cell_type": "code",
   "execution_count": null,
   "outputs": [],
   "source": [],
   "metadata": {
    "collapsed": false
   },
   "id": "1f9ba78a6b26610c"
  },
  {
   "cell_type": "code",
   "execution_count": null,
   "outputs": [],
   "source": [],
   "metadata": {
    "collapsed": false
   },
   "id": "beebd9bc1f61f163"
  }
 ],
 "metadata": {
  "kernelspec": {
   "display_name": "Python 3",
   "language": "python",
   "name": "python3"
  },
  "language_info": {
   "codemirror_mode": {
    "name": "ipython",
    "version": 2
   },
   "file_extension": ".py",
   "mimetype": "text/x-python",
   "name": "python",
   "nbconvert_exporter": "python",
   "pygments_lexer": "ipython2",
   "version": "2.7.6"
  }
 },
 "nbformat": 4,
 "nbformat_minor": 5
}
