{
 "cells": [
  {
   "cell_type": "markdown",
   "id": "604a1336-aa78-4a60-bd10-5d4f536066ef",
   "metadata": {
    "collapsed": false
   },
   "source": [
    "Working with data"
   ]
  },
  {
   "cell_type": "markdown",
   "id": "3e6e1e98-ffca-444d-84e1-4dd2f789b82f",
   "metadata": {
    "collapsed": false
   },
   "source": [
    "PyTorch has two primitives to work with data: torch.utils.data.DataLoader and torch.utils.data.Dataset. Dataset stores the samples and their corresponding labels, and DataLoader wraps an iterable around the Dataset."
   ]
  },
  {
   "cell_type": "code",
   "execution_count": 4,
   "id": "6718b2bb4fe04ee4",
   "metadata": {
    "collapsed": false,
    "ExecuteTime": {
     "end_time": "2025-07-27T10:06:45.610111Z",
     "start_time": "2025-07-27T10:06:45.605799Z"
    }
   },
   "outputs": [],
   "source": [
    "# 在导入语句之后添加设备定义\n",
    "import torch\n",
    "from torch import nn\n",
    "from torch.utils.data import DataLoader\n",
    "from torchvision import datasets\n",
    "from torchvision.transforms import ToTensor"
   ]
  },
  {
   "cell_type": "code",
   "execution_count": 5,
   "id": "6eca7247578ccb83",
   "metadata": {
    "collapsed": false,
    "ExecuteTime": {
     "end_time": "2025-07-27T10:06:47.906189Z",
     "start_time": "2025-07-27T10:06:47.896941Z"
    }
   },
   "outputs": [
    {
     "name": "stdout",
     "output_type": "stream",
     "text": [
      "Using device: mps\n"
     ]
    }
   ],
   "source": [
    "# 定义设备 - 支持 macOS\n",
    "device = torch.device(\n",
    "    \"mps\" if torch.backends.mps.is_available() else  \n",
    "    \"cuda\" if torch.cuda.is_available() else       \n",
    "    \"cpu\"                                          \n",
    ")\n",
    "print(f\"Using device: {device}\")"
   ]
  },
  {
   "cell_type": "markdown",
   "id": "9916da46-c35b-48a6-bae6-dc93b072961a",
   "metadata": {
    "collapsed": false
   },
   "source": [
    "**注意点：**\n",
    "学会检查和使用GPU/MPS加速训练\n",
    "确保数据和模型都在同一设备上（使用 .to(device)）\n",
    "了解不同硬件平台的兼容性处理"
   ]
  },
  {
   "cell_type": "code",
   "execution_count": 6,
   "id": "cb571f8039232a5d",
   "metadata": {
    "collapsed": false,
    "ExecuteTime": {
     "end_time": "2025-07-27T10:06:51.279842Z",
     "start_time": "2025-07-27T10:06:51.247405Z"
    }
   },
   "outputs": [],
   "source": [
    "# Download training data from open datasets.\n",
    "# 使用 FashionMNIST 数据集。每个 TorchVision 都Dataset包含两个参数：transform和target_transform分别用于修改样本和标签\n",
    "training_data = datasets.FashionMNIST(\n",
    "    root=\"data\",\n",
    "    train=True,\n",
    "    download=True,\n",
    "    transform=ToTensor(),# 数据转换\n",
    ")\n",
    "\n",
    "# Download test data from open datasets.\n",
    "test_data = datasets.FashionMNIST(\n",
    "    root=\"data\",\n",
    "    train=False,\n",
    "    download=True,\n",
    "    transform=ToTensor(),\n",
    ")"
   ]
  },
  {
   "cell_type": "markdown",
   "id": "00181b18-3a58-4678-a641-c2dc56e3b9e8",
   "metadata": {
    "collapsed": false
   },
   "source": [
    "Dataset我们将作为参数传递给DataLoader。这将包装一个可迭代对象，用于覆盖我们的数据集，并支持自动批处理、采样、重排和多进程数据加载。\n",
    "这里我们将批处理大小定义为 64，即 dataloader 可迭代对象中的每个元素将返回一个包含 64 个特征和标签的批处理。"
   ]
  },
  {
   "cell_type": "code",
   "execution_count": 7,
   "id": "41f02ba87289d2b2",
   "metadata": {
    "collapsed": false,
    "ExecuteTime": {
     "end_time": "2025-07-27T10:06:53.112398Z",
     "start_time": "2025-07-27T10:06:53.101180Z"
    }
   },
   "outputs": [
    {
     "name": "stdout",
     "output_type": "stream",
     "text": [
      "Shape of X [N,C,H,W]: torch.Size([64, 1, 28, 28])\n",
      "Shape of y: torch.Size([64]) torch.int64\n"
     ]
    }
   ],
   "source": [
    "# 创建 DataLoader\n",
    "batch_size = 64\n",
    "train_dataloader = DataLoader(training_data, batch_size=batch_size)\n",
    "test_dataloader = DataLoader(test_data, batch_size=batch_size)\n",
    "\n",
    "# 查看数据形状\n",
    "for X, y in test_dataloader: \n",
    "    print(f\"Shape of X [N,C,H,W]: {X.shape}\")\n",
    "    print(f\"Shape of y: {y.shape} {y.dtype}\")\n",
    "    break\n"
   ]
  },
  {
   "cell_type": "markdown",
   "id": "d15ebad169301ba2",
   "metadata": {
    "collapsed": false
   },
   "source": [
    "Creating Models"
   ]
  },
  {
   "cell_type": "code",
   "execution_count": 8,
   "id": "510f6e7a77be9ce1",
   "metadata": {
    "collapsed": false,
    "ExecuteTime": {
     "end_time": "2025-07-27T10:06:55.655014Z",
     "start_time": "2025-07-27T10:06:55.647342Z"
    }
   },
   "outputs": [],
   "source": [
    "# 定义模型\n",
    "class NeuralNetwork(nn.Module):\n",
    "    def __init__(self):\n",
    "        super().__init__()\n",
    "        # 创建一个展平层，用于将2D图像数据展平为1D向\n",
    "        self.flatten = nn.Flatten()\n",
    "        self.linear_relu_stack = nn.Sequential(\n",
    "            # 第一个线性层：将784个输入特征（28×28像素）映射到512个神经元\n",
    "            nn.Linear(28*28, 512),\n",
    "            nn.ReLU(),\n",
    "            # 第二个线性层：512到512个神经元\n",
    "            nn.Linear(512, 512),\n",
    "            nn.ReLU(),\n",
    "            # 第三个线性层：512个神经元映射到10个输出（对应FashionMNIST的10个类别）\n",
    "            nn.Linear(512, 10)\n",
    "        )\n",
    "# 前向传播方法\n",
    "    def forward(self, x):\n",
    "        x = self.flatten(x)\n",
    "        logits = self.linear_relu_stack(x)\n",
    "        return logits"
   ]
  },
  {
   "cell_type": "code",
   "execution_count": 9,
   "id": "10ab0c4cd918b070",
   "metadata": {
    "collapsed": false,
    "ExecuteTime": {
     "end_time": "2025-07-27T10:06:59.904275Z",
     "start_time": "2025-07-27T10:06:59.891198Z"
    }
   },
   "outputs": [
    {
     "name": "stdout",
     "output_type": "stream",
     "text": [
      "NeuralNetwork(\n",
      "  (flatten): Flatten(start_dim=1, end_dim=-1)\n",
      "  (linear_relu_stack): Sequential(\n",
      "    (0): Linear(in_features=784, out_features=512, bias=True)\n",
      "    (1): ReLU()\n",
      "    (2): Linear(in_features=512, out_features=512, bias=True)\n",
      "    (3): ReLU()\n",
      "    (4): Linear(in_features=512, out_features=10, bias=True)\n",
      "  )\n",
      ")\n"
     ]
    }
   ],
   "source": [
    "# 实例化模型并移到设备上\n",
    "model = NeuralNetwork().to(device)\n",
    "print(model)"
   ]
  },
  {
   "cell_type": "code",
   "execution_count": 10,
   "id": "f468e37e-abe2-4432-bafd-852d4a8f8c07",
   "metadata": {
    "collapsed": false,
    "ExecuteTime": {
     "end_time": "2025-07-27T10:07:03.219257Z",
     "start_time": "2025-07-27T10:07:03.213585Z"
    }
   },
   "outputs": [],
   "source": [
    "# 定义损失函数和优化器\n",
    "loss_fn = nn.CrossEntropyLoss()\n",
    "# 使用随机梯度下降（SGD）作为优化算法\n",
    "optimizer = torch.optim.SGD(model.parameters(), lr=1e-3)# 设置学习率为0.001"
   ]
  },
  {
   "cell_type": "markdown",
   "id": "d9b997d513d3b660",
   "metadata": {
    "collapsed": false
   },
   "source": [
    "To train a model, we need a loss function and an optimizer.\n",
    "为了训练模型，我们需要一个损失函数 和一个优化器。\n",
    "dataloader: 数据加载器，用于批量提供训练数据\n",
    "model: 神经网络模型\n",
    "loss_fn: 损失函数，用于计算预测值与真实值之间的误差\n",
    "optimizer: 优化器，用于更新模型参数"
   ]
  },
  {
   "cell_type": "code",
   "execution_count": 11,
   "id": "3c5dd1fead2c5b15",
   "metadata": {
    "collapsed": false,
    "ExecuteTime": {
     "end_time": "2025-07-27T10:07:10.801981Z",
     "start_time": "2025-07-27T10:07:10.793070Z"
    }
   },
   "outputs": [],
   "source": [
    "#在单次训练循环中，模型对训练数据集（分批输入）进行预测，并反向传播预测误差以调整模型的参数。\n",
    "# 训练函数（修复变量命名）\n",
    "def train(dataloader, model, loss_fn, optimizer):\n",
    "    size = len(dataloader.dataset)\n",
    "    model.train()\n",
    "    for batch, (x, y) in enumerate(dataloader):\n",
    "        x, y = x.to(device), y.to(device) \n",
    "        pred = model(x)\n",
    "        loss = loss_fn(pred, y) # 计算损失\n",
    "        loss.backward() # 计算梯度\n",
    "        optimizer.step()# 使用SGD更新参数\n",
    "        optimizer.zero_grad()# 清零梯度缓存\n",
    "        if batch % 100 == 0:\n",
    "            loss_val, current = loss.item(), (batch + 1) * len(x)\n",
    "            print(f\"loss: {loss_val:>7f}  [{current:>5d}/{size:>5d}]\")\n",
    "        "
   ]
  },
  {
   "cell_type": "code",
   "execution_count": 12,
   "id": "26c2d1bea4b2626f",
   "metadata": {
    "collapsed": false,
    "ExecuteTime": {
     "end_time": "2025-07-27T10:07:14.752541Z",
     "start_time": "2025-07-27T10:07:14.745639Z"
    }
   },
   "outputs": [],
   "source": [
    "# 测试函数\n",
    "def test(dataloader, model, loss_fn):\n",
    "    size = len(dataloader.dataset)#获取测试数据集的总样本数\n",
    "    num_batches = len(dataloader)#获取批次数\n",
    "    model.eval()#将模型设置为评估模式\n",
    "    test_loss, correct = 0, 0\n",
    "    #上下文管理器禁用梯度计算，因为在测试阶段不需要计算梯度，这样可以节省内存并加快计算速度\n",
    "    with torch.no_grad(): \n",
    "        for x, y in dataloader:\n",
    "            x, y = x.to(device), y.to(device)  # 使用小写变量名并移到设备上\n",
    "            pred = model(x)   # 模型前向传播，得到预测结果\n",
    "            test_loss += loss_fn(pred, y).item() # 累加损失值\n",
    "            correct += (pred.argmax(1) == y).type(torch.float).sum().item()\n",
    "    test_loss /= num_batches # 计算平均损失\n",
    "    correct /= size  # 计算准确率\n",
    "    print(f\"Test Error: \\n Accuracy: {(100*correct):>0.1f}%, Avg loss: {test_loss:>8f} \\n\")"
   ]
  },
  {
   "cell_type": "markdown",
   "id": "cd601aec-d8ad-450c-898d-ba91ec291839",
   "metadata": {
    "collapsed": false
   },
   "source": [
    "test_loss /= num_batches：计算所有批次的平均损失\n",
    "correct /= size：计算整体准确率（正确预测数/总样本数）\n",
    "##### 总结\n",
    "这个测试函数的作用是：\n",
    "在测试数据上评估模型性能\n",
    "计算并显示模型的准确率和平均损失\n",
    "通过禁用梯度计算来提高效率\n",
    "使用模型的评估模式确保测试结果的准确性\n",
    "在整个训练过程中，每个训练周期（epoch）结束后都会调用此函数来监控模型在测试集上的表现。"
   ]
  },
  {
   "cell_type": "code",
   "execution_count": 13,
   "id": "c71d7228a1e80acc",
   "metadata": {
    "collapsed": false,
    "ExecuteTime": {
     "end_time": "2025-07-27T10:07:50.044431Z",
     "start_time": "2025-07-27T10:07:30.907417Z"
    }
   },
   "outputs": [
    {
     "name": "stdout",
     "output_type": "stream",
     "text": [
      "Epoch 1\n",
      "-------------------------------\n",
      "loss: 2.317497  [   64/60000]\n",
      "loss: 2.298547  [ 6464/60000]\n",
      "loss: 2.283669  [12864/60000]\n",
      "loss: 2.271442  [19264/60000]\n",
      "loss: 2.247291  [25664/60000]\n",
      "loss: 2.235467  [32064/60000]\n",
      "loss: 2.236711  [38464/60000]\n",
      "loss: 2.214442  [44864/60000]\n",
      "loss: 2.206835  [51264/60000]\n",
      "loss: 2.157861  [57664/60000]\n",
      "Test Error: \n",
      " Accuracy: 44.3%, Avg loss: 2.163993 \n",
      "\n",
      "Epoch 2\n",
      "-------------------------------\n",
      "loss: 2.183630  [   64/60000]\n",
      "loss: 2.167983  [ 6464/60000]\n",
      "loss: 2.116927  [12864/60000]\n",
      "loss: 2.125722  [19264/60000]\n",
      "loss: 2.071105  [25664/60000]\n",
      "loss: 2.028961  [32064/60000]\n",
      "loss: 2.049572  [38464/60000]\n",
      "loss: 1.982203  [44864/60000]\n",
      "loss: 1.980871  [51264/60000]\n",
      "loss: 1.891472  [57664/60000]\n",
      "Test Error: \n",
      " Accuracy: 55.4%, Avg loss: 1.903072 \n",
      "\n",
      "Epoch 3\n",
      "-------------------------------\n",
      "loss: 1.942380  [   64/60000]\n",
      "loss: 1.906816  [ 6464/60000]\n",
      "loss: 1.797442  [12864/60000]\n",
      "loss: 1.830434  [19264/60000]\n",
      "loss: 1.718021  [25664/60000]\n",
      "loss: 1.677160  [32064/60000]\n",
      "loss: 1.688684  [38464/60000]\n",
      "loss: 1.599801  [44864/60000]\n",
      "loss: 1.612753  [51264/60000]\n",
      "loss: 1.492878  [57664/60000]\n",
      "Test Error: \n",
      " Accuracy: 60.2%, Avg loss: 1.525803 \n",
      "\n",
      "Epoch 4\n",
      "-------------------------------\n",
      "loss: 1.596242  [   64/60000]\n",
      "loss: 1.553306  [ 6464/60000]\n",
      "loss: 1.412139  [12864/60000]\n",
      "loss: 1.479852  [19264/60000]\n",
      "loss: 1.359058  [25664/60000]\n",
      "loss: 1.356582  [32064/60000]\n",
      "loss: 1.364149  [38464/60000]\n",
      "loss: 1.301212  [44864/60000]\n",
      "loss: 1.327862  [51264/60000]\n",
      "loss: 1.214853  [57664/60000]\n",
      "Test Error: \n",
      " Accuracy: 63.4%, Avg loss: 1.253529 \n",
      "\n",
      "Epoch 5\n",
      "-------------------------------\n",
      "loss: 1.337577  [   64/60000]\n",
      "loss: 1.309058  [ 6464/60000]\n",
      "loss: 1.150893  [12864/60000]\n",
      "loss: 1.254614  [19264/60000]\n",
      "loss: 1.128400  [25664/60000]\n",
      "loss: 1.152805  [32064/60000]\n",
      "loss: 1.172793  [38464/60000]\n",
      "loss: 1.120776  [44864/60000]\n",
      "loss: 1.155066  [51264/60000]\n",
      "loss: 1.059631  [57664/60000]\n",
      "Test Error: \n",
      " Accuracy: 64.9%, Avg loss: 1.088559 \n",
      "\n",
      "Done!\n"
     ]
    }
   ],
   "source": [
    "# 训练模型\n",
    "epochs = 5\n",
    "for t in range(epochs):\n",
    "    print(f\"Epoch {t+1}\\n-------------------------------\")\n",
    "    train(train_dataloader, model, loss_fn, optimizer)\n",
    "    test(test_dataloader, model, loss_fn)\n",
    "print(\"Done!\")"
   ]
  },
  {
   "cell_type": "markdown",
   "id": "ea877669-88be-4732-be4d-01d3091e8be7",
   "metadata": {},
   "source": [
    "Saving Models\n",
    "A common way to save a model is to serialize the internal state dictionary (containing the model parameters)."
   ]
  },
  {
   "cell_type": "code",
   "execution_count": 14,
   "id": "3ea12430a8d3aa1b",
   "metadata": {
    "collapsed": false,
    "ExecuteTime": {
     "end_time": "2025-07-27T10:08:00.017150Z",
     "start_time": "2025-07-27T10:07:59.980409Z"
    }
   },
   "outputs": [
    {
     "name": "stdout",
     "output_type": "stream",
     "text": [
      "Saved PyTorch Model State to model.pth\n"
     ]
    }
   ],
   "source": [
    "torch.save(model.state_dict(), \"model.pth\")\n",
    "print(\"Saved PyTorch Model State to model.pth\")"
   ]
  },
  {
   "cell_type": "markdown",
   "id": "fbb143f8-78df-433c-bbd5-06eab7a2855f",
   "metadata": {
    "collapsed": false
   },
   "source": [
    "Loading Models\n",
    "The process for loading a model includes re-creating the model structure and loading the state dictionary into it."
   ]
  },
  {
   "cell_type": "code",
   "execution_count": 15,
   "id": "cf10f02759b616bd",
   "metadata": {
    "collapsed": false,
    "ExecuteTime": {
     "end_time": "2025-07-27T10:09:15.089954Z",
     "start_time": "2025-07-27T10:09:15.052255Z"
    }
   },
   "outputs": [
    {
     "data": {
      "text/plain": "<All keys matched successfully>"
     },
     "execution_count": 15,
     "metadata": {},
     "output_type": "execute_result"
    }
   ],
   "source": [
    "model = NeuralNetwork().to(device)\n",
    "model.load_state_dict(torch.load(\"model.pth\", weights_only=True))"
   ]
  },
  {
   "cell_type": "code",
   "execution_count": 16,
   "id": "6b0da770da38ec19",
   "metadata": {
    "collapsed": false,
    "ExecuteTime": {
     "end_time": "2025-07-27T10:09:32.111037Z",
     "start_time": "2025-07-27T10:09:31.629401Z"
    }
   },
   "outputs": [
    {
     "name": "stdout",
     "output_type": "stream",
     "text": [
      "Predicted: \"Ankle boot\", Actual: \"Ankle boot\"\n"
     ]
    }
   ],
   "source": [
    "classes = [\n",
    "    \"T-shirt/top\",\n",
    "    \"Trouser\",\n",
    "    \"Pullover\",\n",
    "    \"Dress\",\n",
    "    \"Coat\",\n",
    "    \"Sandal\",\n",
    "    \"Shirt\",\n",
    "    \"Sneaker\",\n",
    "    \"Bag\",\n",
    "    \"Ankle boot\",\n",
    "]\n",
    "\n",
    "model.eval()\n",
    "x, y = test_data[0][0], test_data[0][1]\n",
    "with torch.no_grad():\n",
    "    x = x.to(device)\n",
    "    pred = model(x)\n",
    "    predicted, actual = classes[pred[0].argmax(0)], classes[y]\n",
    "    print(f'Predicted: \"{predicted}\", Actual: \"{actual}\"')"
   ]
  },
  {
   "cell_type": "code",
   "execution_count": null,
   "outputs": [],
   "source": [],
   "metadata": {
    "collapsed": false
   },
   "id": "9c828705366e54d8"
  }
 ],
 "metadata": {
  "kernelspec": {
   "name": "llm-env",
   "language": "python",
   "display_name": "Python (llm-env)"
  },
  "language_info": {
   "codemirror_mode": {
    "name": "ipython",
    "version": 3
   },
   "file_extension": ".py",
   "mimetype": "text/x-python",
   "name": "python",
   "nbconvert_exporter": "python",
   "pygments_lexer": "ipython3",
   "version": "3.12.3"
  }
 },
 "nbformat": 4,
 "nbformat_minor": 5
}
