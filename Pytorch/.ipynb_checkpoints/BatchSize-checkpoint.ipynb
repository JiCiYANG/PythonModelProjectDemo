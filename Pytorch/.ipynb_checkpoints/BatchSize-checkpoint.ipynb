{
 "cells": [
  {
   "cell_type": "markdown",
   "id": "f00be4e2-ff93-4636-aed2-a5623e9e0459",
   "metadata": {},
   "source": [
    "### DataLoader（数据加载器）"
   ]
  },
  {
   "cell_type": "markdown",
   "id": "1e9c6aab-da02-4c43-a148-61d28597dc20",
   "metadata": {},
   "source": [
    "#### 1.定义和作用\n",
    "DataLoader 包装 Dataset 并提供以下功能：\n",
    "批量处理（Batching）：将数据组织成批次\n",
    "数据打乱（Shuffling）：随机化数据顺序\n",
    "并行加载：多进程加载数据提高效率\n",
    "迭代访问：提供可迭代的对象接口"
   ]
  },
  {
   "cell_type": "code",
   "execution_count": null,
   "id": "f353fc9a-7766-4d5c-8d3c-32110571e42b",
   "metadata": {},
   "outputs": [],
   "source": [
    "# 2.DataLoader 示例\n",
    "batch_size = 64\n",
    "train_dataloader = DataLoader(\n",
    "    training_data,     # 传入 Dataset\n",
    "    batch_size=batch_size,  # 批次大小\n",
    "    shuffle=True       # 是否打乱数据\n",
    ")\n",
    "# 3. 使用 DataLoader 进行训练\n",
    "for batch_idx, (images, labels) in enumerate(train_dataloader):\n",
    "    # images.shape: [64, 1, 28, 28]\n",
    "    # labels.shape: [64]\n",
    "    # 进行模型训练...\n",
    "    pass\n"
   ]
  },
  {
   "cell_type": "markdown",
   "id": "660a8170-989a-4727-a1dc-f436e17e8f53",
   "metadata": {
    "collapsed": false,
    "jupyter": {
     "outputs_hidden": false
    }
   },
   "source": [
    "#### 批处理（Batching）的概念和重要性\n",
    "什么是批处理（Batching）\n",
    "批处理是深度学习中将多个数据样本组合成一个批次进行处理的技术。在代码中体现为:"
   ]
  },
  {
   "cell_type": "code",
   "execution_count": null,
   "id": "4946090ae2767a5a",
   "metadata": {
    "collapsed": false,
    "jupyter": {
     "outputs_hidden": false
    }
   },
   "outputs": [],
   "source": [
    "# 设置批处理大小\n",
    "batch_size = 64\n",
    "\n",
    "# 创建 DataLoader 时指定批次大小\n",
    "train_dataloader = DataLoader(training_data, batch_size=batch_size)\n",
    "test_dataloader = DataLoader(test_data, batch_size=batch_size)\n",
    "\n",
    "# 数据形状示例\n",
    "# 单个样本: [1, 28, 28] - 1张图片\n",
    "# 批处理后: [64, 1, 28, 28] - 64张图片作为一个批次\n"
   ]
  },
  {
   "cell_type": "markdown",
   "id": "785deef0-80a5-41f6-a4f0-49a9e0f75b37",
   "metadata": {
    "collapsed": false,
    "jupyter": {
     "outputs_hidden": false
    }
   },
   "source": [
    "#### 批处理的核心概念\n",
    "**1. 批次大小（Batch Size）**\n",
    "决定每个批次包含多少个样本\n",
    "影响内存使用、训练速度和模型性能"
   ]
  },
  {
   "cell_type": "code",
   "execution_count": null,
   "id": "bf84f7a33409b6ff",
   "metadata": {
    "collapsed": false,
    "jupyter": {
     "outputs_hidden": false
    }
   },
   "outputs": [],
   "source": [
    "from torch.utils.data import DataLoader\n",
    "\n",
    "# 不同批次大小的示例\n",
    "batch_sizes = [1, 32, 64, 128, 256]\n",
    "for bs in batch_sizes:\n",
    "    dataloader = DataLoader(training_data, batch_size=bs)\n",
    "    for batch_x, batch_y in dataloader:\n",
    "        print(f\"Batch size {bs}: X shape = {batch_x.shape}\")\n",
    "        break\n"
   ]
  },
  {
   "cell_type": "markdown",
   "id": "415f593b-c21f-4081-b822-bf82449f9201",
   "metadata": {
    "collapsed": false,
    "jupyter": {
     "outputs_hidden": false
    }
   },
   "source": [
    "##### 如何选择批处理大小（Batch Size）\n",
    "选择合适的批处理大小是深度学习训练中的一个重要超参数调整问题。以下是主要考虑因素：\n",
    "**1. 硬件资源限制**\n",
    "内存限制：批处理大小受GPU/CPU内存限制，过大的批次会导致内存溢出\n",
    "并行处理能力：硬件的并行计算能力影响批次处理效率\n",
    "**2. 训练效果影响**\n",
    "较小的批处理大小：\n",
    "梯度估计噪声较大，可能有助于跳出局部最优\n",
    "训练过程更加稳定\n",
    "但可能导致训练速度较慢\n",
    "较大的批处理大小：\n",
    "梯度估计更准确，训练更稳定\n",
    "可以充分利用硬件并行性，训练速度更快\n",
    "但可能陷入尖锐最小值，泛化能力较差\n",
    "**3. 实践建议**\n",
    "常用策略：\n",
    "从较小值开始：通常从32、64、128开始尝试\n",
    "2的幂次：常用值如32、64、128、256、512等\n",
    "根据数据集大小调整：小数据集用小批次，大数据集可用大批次\n",
    "调整方法：\n",
    "监控内存使用情况\n",
    "观察训练损失曲线的稳定性\n",
    "比较验证集上的性能表现\n",
    "考虑学习率的相应调整（通常大批量需要更大学习率）\n",
    "**4. 特殊情况**\n",
    "全批次梯度下降：批次大小等于整个训练集（适用于小数据集）\n",
    "在线学习：批次大小为1（适用于实时学习场景）\n",
    "选择批处理大小需要在训练效率、内存使用和模型性能之间找到平衡点。"
   ]
  },
  {
   "cell_type": "markdown",
   "id": "f686e53f-b30e-4085-9f8a-93a297a06c51",
   "metadata": {},
   "source": [
    "#### Dataset（数据集）\n",
    "##### 定义和作用\n",
    "Dataset 是 PyTorch 中用于存储和管理数据的抽象类，主要作用是：\n",
    "- 存储数据样本：保存训练或测试数据及其对应的标签\n",
    "- 数据索引：通过索引访问特定的数据样本\n",
    "- 数据预处理：对原始数据进行转换和增强"
   ]
  },
  {
   "cell_type": "code",
   "execution_count": null,
   "id": "7f0b0349cdaee759",
   "metadata": {
    "collapsed": false,
    "jupyter": {
     "outputs_hidden": false
    }
   },
   "outputs": [],
   "source": [
    "# 1.Dataset 必须实现的两个方法\n",
    "class CustomDataset(torch.utils.data.Dataset):\n",
    "    def __init__(self):\n",
    "        # 初始化数据\n",
    "        pass\n",
    "    \n",
    "    def __len__(self):\n",
    "        # 返回数据集大小\n",
    "        return len(self.data)\n",
    "    \n",
    "    def __getitem__(self,s idx):\n",
    "        # 根据索引返回单个样本\n",
    "        return self.data[idx], self.labels[idx]\n"
   ]
  },
  {
   "cell_type": "markdown",
   "id": "117ecfcf-0958-4cb4-879f-8965468ecf5b",
   "metadata": {},
   "source": [
    "#### Dataset 和 DataLoader 的区别和作用"
   ]
  },
  {
   "cell_type": "markdown",
   "id": "bb87d5de-daef-4184-ab28-ee1ec8a9fa9d",
   "metadata": {
    "collapsed": false,
    "jupyter": {
     "outputs_hidden": false
    }
   },
   "source": [
    "##### 工作流程\n",
    "**Dataset 阶段：**\n",
    "1. 下载/加载原始数据\n",
    "2. 应用数据转换（如 ToTensor, Normalize）\n",
    "3. 提供按索引访问单个样本的能力\n",
    "\n",
    "**DataLoader 阶段：**\n",
    "1. 从 Dataset 中批量采样数据\n",
    "2. 在训练时打乱数据顺序\n",
    "3. 多进程并行加载数据\n",
    "4.  提供迭代器接口供训练循环使用"
   ]
  },
  {
   "cell_type": "markdown",
   "id": "900917dc-481c-438c-ba85-7c41ec0ec016",
   "metadata": {
    "collapsed": false,
    "jupyter": {
     "outputs_hidden": false
    }
   },
   "source": [
    "##### 关键优势\n",
    "**Dataset 优势：**\n",
    "- 灵活的数据存储和访问方式\n",
    "- 支持各种数据格式和预处理操作\n",
    "- 可自定义实现特殊需求\n",
    "\n",
    "**DataLoader 优势：**\n",
    "- 自动批处理，简化训练代码\n",
    "- 内存高效，支持大数据集\n",
    "- 支持多线程/多进程加速\n",
    "- 训练时自动数据打乱，提高模型泛化能力\n",
    "\n",
    "**通过 Dataset 和 DataLoader 的配合使用，PyTorch 提供了一个高效、灵活的数据处理管道，使得深度学习模型的训练更加便捷和高效**"
   ]
  },
  {
   "cell_type": "code",
   "execution_count": null,
   "id": "1e5c7a174c328c1",
   "metadata": {
    "collapsed": false,
    "jupyter": {
     "outputs_hidden": false
    }
   },
   "outputs": [],
   "source": []
  },
  {
   "cell_type": "code",
   "execution_count": null,
   "id": "e72118f9dc3cdac9",
   "metadata": {
    "collapsed": false,
    "jupyter": {
     "outputs_hidden": false
    }
   },
   "outputs": [],
   "source": []
  },
  {
   "cell_type": "code",
   "execution_count": null,
   "id": "36b2ad60dc6433ce",
   "metadata": {
    "collapsed": false,
    "jupyter": {
     "outputs_hidden": false
    }
   },
   "outputs": [],
   "source": []
  },
  {
   "cell_type": "code",
   "execution_count": null,
   "id": "509aad40a72c68f3",
   "metadata": {
    "collapsed": false,
    "jupyter": {
     "outputs_hidden": false
    }
   },
   "outputs": [],
   "source": []
  },
  {
   "cell_type": "code",
   "execution_count": null,
   "id": "a1bfed60b84ec245",
   "metadata": {
    "collapsed": false,
    "jupyter": {
     "outputs_hidden": false
    }
   },
   "outputs": [],
   "source": []
  },
  {
   "cell_type": "code",
   "execution_count": null,
   "id": "7ddd05890b833890",
   "metadata": {
    "collapsed": false,
    "jupyter": {
     "outputs_hidden": false
    }
   },
   "outputs": [],
   "source": []
  },
  {
   "cell_type": "code",
   "execution_count": null,
   "id": "60c695e769e09147",
   "metadata": {
    "collapsed": false,
    "jupyter": {
     "outputs_hidden": false
    }
   },
   "outputs": [],
   "source": []
  },
  {
   "cell_type": "code",
   "execution_count": null,
   "id": "688311dc76abe222",
   "metadata": {
    "collapsed": false,
    "jupyter": {
     "outputs_hidden": false
    }
   },
   "outputs": [],
   "source": []
  },
  {
   "cell_type": "code",
   "execution_count": null,
   "id": "fe922df52799b50b",
   "metadata": {
    "collapsed": false,
    "jupyter": {
     "outputs_hidden": false
    }
   },
   "outputs": [],
   "source": []
  },
  {
   "cell_type": "code",
   "execution_count": null,
   "id": "8fe877111f4adc1a",
   "metadata": {
    "collapsed": false,
    "jupyter": {
     "outputs_hidden": false
    }
   },
   "outputs": [],
   "source": []
  },
  {
   "cell_type": "code",
   "execution_count": null,
   "id": "6e6f9be1c681ddf6",
   "metadata": {
    "collapsed": false,
    "jupyter": {
     "outputs_hidden": false
    }
   },
   "outputs": [],
   "source": []
  },
  {
   "cell_type": "code",
   "execution_count": null,
   "id": "3ba834b66a30a6c0",
   "metadata": {
    "collapsed": false,
    "jupyter": {
     "outputs_hidden": false
    }
   },
   "outputs": [],
   "source": []
  },
  {
   "cell_type": "code",
   "execution_count": null,
   "id": "f07fcb5563629db",
   "metadata": {
    "collapsed": false,
    "jupyter": {
     "outputs_hidden": false
    }
   },
   "outputs": [],
   "source": []
  }
 ],
 "metadata": {
  "kernelspec": {
   "display_name": "Python 3 (ipykernel)",
   "language": "python",
   "name": "python3"
  },
  "language_info": {
   "codemirror_mode": {
    "name": "ipython",
    "version": 3
   },
   "file_extension": ".py",
   "mimetype": "text/x-python",
   "name": "python",
   "nbconvert_exporter": "python",
   "pygments_lexer": "ipython3",
   "version": "3.12.3"
  }
 },
 "nbformat": 4,
 "nbformat_minor": 5
}
