{
 "cells": [
  {
   "cell_type": "markdown",
   "id": "604a1336-aa78-4a60-bd10-5d4f536066ef",
   "metadata": {
    "collapsed": false,
    "jupyter": {
     "outputs_hidden": false
    }
   },
   "source": [
    "Working with data"
   ]
  },
  {
   "cell_type": "markdown",
   "id": "3e6e1e98-ffca-444d-84e1-4dd2f789b82f",
   "metadata": {
    "collapsed": false,
    "jupyter": {
     "outputs_hidden": false
    }
   },
   "source": [
    "PyTorch has two primitives to work with data: torch.utils.data.DataLoader and torch.utils.data.Dataset. Dataset stores the samples and their corresponding labels, and DataLoader wraps an iterable around the Dataset."
   ]
  },
  {
   "cell_type": "code",
   "execution_count": 9,
   "id": "6718b2bb4fe04ee4",
   "metadata": {
    "ExecuteTime": {
     "end_time": "2025-07-26T19:30:18.722292Z",
     "start_time": "2025-07-26T19:30:18.719692Z"
    },
    "collapsed": false,
    "jupyter": {
     "outputs_hidden": false
    }
   },
   "outputs": [],
   "source": [
    "# 在导入语句之后添加设备定义\n",
    "import torch\n",
    "from torch import nn\n",
    "from torch.utils.data import DataLoader\n",
    "from torchvision import datasets\n",
    "from torchvision.transforms import ToTensor"
   ]
  },
  {
   "cell_type": "code",
   "execution_count": 28,
   "id": "6eca7247578ccb83",
   "metadata": {
    "ExecuteTime": {
     "end_time": "2025-07-26T19:44:35.460098Z",
     "start_time": "2025-07-26T19:44:35.456420Z"
    },
    "collapsed": false,
    "jupyter": {
     "outputs_hidden": false
    }
   },
   "outputs": [
    {
     "name": "stdout",
     "output_type": "stream",
     "text": [
      "Using device: mps\n"
     ]
    }
   ],
   "source": [
    "# 定义设备 - 支持 macOS\n",
    "device = torch.device(\n",
    "    \"mps\" if torch.backends.mps.is_available() else  \n",
    "    \"cuda\" if torch.cuda.is_available() else       \n",
    "    \"cpu\"                                          \n",
    ")\n",
    "print(f\"Using device: {device}\")"
   ]
  },
  {
   "cell_type": "markdown",
   "id": "9916da46-c35b-48a6-bae6-dc93b072961a",
   "metadata": {
    "collapsed": false,
    "jupyter": {
     "outputs_hidden": false
    }
   },
   "source": [
    "**注意点：**\n",
    "学会检查和使用GPU/MPS加速训练\n",
    "确保数据和模型都在同一设备上（使用 .to(device)）\n",
    "了解不同硬件平台的兼容性处理"
   ]
  },
  {
   "cell_type": "code",
   "execution_count": 29,
   "id": "cb571f8039232a5d",
   "metadata": {
    "ExecuteTime": {
     "end_time": "2025-07-26T19:44:38.064956Z",
     "start_time": "2025-07-26T19:44:38.040619Z"
    },
    "collapsed": false,
    "jupyter": {
     "outputs_hidden": false
    }
   },
   "outputs": [],
   "source": [
    "# Download training data from open datasets.\n",
    "# 使用 FashionMNIST 数据集。每个 TorchVision 都Dataset包含两个参数：transform和target_transform分别用于修改样本和标签\n",
    "training_data = datasets.FashionMNIST(\n",
    "    root=\"data\",\n",
    "    train=True,\n",
    "    download=True,\n",
    "    transform=ToTensor(),# 数据转换\n",
    ")\n",
    "\n",
    "# Download test data from open datasets.\n",
    "test_data = datasets.FashionMNIST(\n",
    "    root=\"data\",\n",
    "    train=False,\n",
    "    download=True,\n",
    "    transform=ToTensor(),\n",
    ")"
   ]
  },
  {
   "cell_type": "markdown",
   "id": "00181b18-3a58-4678-a641-c2dc56e3b9e8",
   "metadata": {
    "collapsed": false,
    "jupyter": {
     "outputs_hidden": false
    }
   },
   "source": [
    "Dataset我们将作为参数传递给DataLoader。这将包装一个可迭代对象，用于覆盖我们的数据集，并支持自动批处理、采样、重排和多进程数据加载。\n",
    "这里我们将批处理大小定义为 64，即 dataloader 可迭代对象中的每个元素将返回一个包含 64 个特征和标签的批处理。"
   ]
  },
  {
   "cell_type": "code",
   "execution_count": 31,
   "id": "41f02ba87289d2b2",
   "metadata": {
    "ExecuteTime": {
     "end_time": "2025-07-26T19:45:19.336044Z",
     "start_time": "2025-07-26T19:45:19.329505Z"
    },
    "collapsed": false,
    "jupyter": {
     "outputs_hidden": false
    }
   },
   "outputs": [
    {
     "name": "stdout",
     "output_type": "stream",
     "text": [
      "Shape of X [N,C,H,W]: torch.Size([64, 1, 28, 28])\n",
      "Shape of y: torch.Size([64]) torch.int64\n"
     ]
    }
   ],
   "source": [
    "# 创建 DataLoader\n",
    "batch_size = 64\n",
    "train_dataloader = DataLoader(training_data, batch_size=batch_size)\n",
    "test_dataloader = DataLoader(test_data, batch_size=batch_size)\n",
    "\n",
    "# 查看数据形状\n",
    "for X, y in test_dataloader: \n",
    "    print(f\"Shape of X [N,C,H,W]: {X.shape}\")\n",
    "    print(f\"Shape of y: {y.shape} {y.dtype}\")\n",
    "    break\n"
   ]
  },
  {
   "cell_type": "markdown",
   "id": "d15ebad169301ba2",
   "metadata": {
    "collapsed": false,
    "jupyter": {
     "outputs_hidden": false
    }
   },
   "source": [
    "Creating Models"
   ]
  },
  {
   "cell_type": "code",
   "execution_count": 33,
   "id": "510f6e7a77be9ce1",
   "metadata": {
    "ExecuteTime": {
     "end_time": "2025-07-26T19:45:41.411042Z",
     "start_time": "2025-07-26T19:45:41.408125Z"
    },
    "collapsed": false,
    "jupyter": {
     "outputs_hidden": false
    }
   },
   "outputs": [],
   "source": [
    "# 定义模型\n",
    "class NeuralNetwork(nn.Module):\n",
    "    def __init__(self):\n",
    "        super().__init__()\n",
    "        # 创建一个展平层，用于将2D图像数据展平为1D向\n",
    "        self.flatten = nn.Flatten()\n",
    "        self.linear_relu_stack = nn.Sequential(\n",
    "            # 第一个线性层：将784个输入特征（28×28像素）映射到512个神经元\n",
    "            nn.Linear(28*28, 512),\n",
    "            nn.ReLU(),\n",
    "            # 第二个线性层：512到512个神经元\n",
    "            nn.Linear(512, 512),\n",
    "            nn.ReLU(),\n",
    "            # 第三个线性层：512个神经元映射到10个输出（对应FashionMNIST的10个类别）\n",
    "            nn.Linear(512, 10)\n",
    "        )\n",
    "# 前向传播方法\n",
    "    def forward(self, x):\n",
    "        x = self.flatten(x)\n",
    "        logits = self.linear_relu_stack(x)\n",
    "        return logits"
   ]
  },
  {
   "cell_type": "code",
   "execution_count": 34,
   "id": "10ab0c4cd918b070",
   "metadata": {
    "ExecuteTime": {
     "end_time": "2025-07-26T19:45:45.625808Z",
     "start_time": "2025-07-26T19:45:45.610579Z"
    },
    "collapsed": false,
    "jupyter": {
     "outputs_hidden": false
    }
   },
   "outputs": [
    {
     "name": "stdout",
     "output_type": "stream",
     "text": [
      "NeuralNetwork(\n",
      "  (flatten): Flatten(start_dim=1, end_dim=-1)\n",
      "  (linear_relu_stack): Sequential(\n",
      "    (0): Linear(in_features=784, out_features=512, bias=True)\n",
      "    (1): ReLU()\n",
      "    (2): Linear(in_features=512, out_features=512, bias=True)\n",
      "    (3): ReLU()\n",
      "    (4): Linear(in_features=512, out_features=10, bias=True)\n",
      "  )\n",
      ")\n"
     ]
    }
   ],
   "source": [
    "# 实例化模型并移到设备上\n",
    "model = NeuralNetwork().to(device)\n",
    "print(model)"
   ]
  },
  {
   "cell_type": "code",
   "execution_count": 35,
   "id": "f468e37e-abe2-4432-bafd-852d4a8f8c07",
   "metadata": {
    "ExecuteTime": {
     "end_time": "2025-07-26T19:45:47.778986Z",
     "start_time": "2025-07-26T19:45:47.772706Z"
    },
    "collapsed": false,
    "jupyter": {
     "outputs_hidden": false
    }
   },
   "outputs": [],
   "source": [
    "# 定义损失函数和优化器\n",
    "loss_fn = nn.CrossEntropyLoss()\n",
    "# 使用随机梯度下降（SGD）作为优化算法\n",
    "optimizer = torch.optim.SGD(model.parameters(), lr=1e-3)# 设置学习率为0.001"
   ]
  },
  {
   "cell_type": "markdown",
   "id": "d9b997d513d3b660",
   "metadata": {
    "collapsed": false,
    "jupyter": {
     "outputs_hidden": false
    }
   },
   "source": [
    "To train a model, we need a loss function and an optimizer.\n",
    "为了训练模型，我们需要一个损失函数 和一个优化器。\n",
    "dataloader: 数据加载器，用于批量提供训练数据\n",
    "model: 神经网络模型\n",
    "loss_fn: 损失函数，用于计算预测值与真实值之间的误差\n",
    "optimizer: 优化器，用于更新模型参数"
   ]
  },
  {
   "cell_type": "code",
   "execution_count": 39,
   "id": "3c5dd1fead2c5b15",
   "metadata": {
    "ExecuteTime": {
     "end_time": "2025-07-27T08:27:49.613283Z",
     "start_time": "2025-07-27T08:27:49.608929Z"
    },
    "collapsed": false,
    "jupyter": {
     "outputs_hidden": false
    }
   },
   "outputs": [],
   "source": [
    "#在单次训练循环中，模型对训练数据集（分批输入）进行预测，并反向传播预测误差以调整模型的参数。\n",
    "# 训练函数（修复变量命名）\n",
    "def train(dataloader, model, loss_fn, optimizer):\n",
    "    size = len(dataloader.dataset)\n",
    "    model.train()\n",
    "    for batch, (x, y) in enumerate(dataloader):\n",
    "        x, y = x.to(device), y.to(device) \n",
    "        pred = model(x)\n",
    "        loss = loss_fn(pred, y) # 计算损失\n",
    "        loss.backward() # 计算梯度\n",
    "        optimizer.step()# 使用SGD更新参数\n",
    "        optimizer.zero_grad()# 清零梯度缓存\n",
    "        if batch % 100 == 0:\n",
    "            loss_val, current = loss.item(), (batch + 1) * len(x)\n",
    "            print(f\"loss: {loss_val:>7f}  [{current:>5d}/{size:>5d}]\")\n",
    "        "
   ]
  },
  {
   "cell_type": "code",
   "execution_count": 40,
   "id": "26c2d1bea4b2626f",
   "metadata": {
    "ExecuteTime": {
     "end_time": "2025-07-27T08:28:21.161811Z",
     "start_time": "2025-07-27T08:28:21.156041Z"
    },
    "collapsed": false,
    "jupyter": {
     "outputs_hidden": false
    }
   },
   "outputs": [],
   "source": [
    "# 测试函数\n",
    "def test(dataloader, model, loss_fn):\n",
    "    size = len(dataloader.dataset)#获取测试数据集的总样本数\n",
    "    num_batches = len(dataloader)#获取批次数\n",
    "    model.eval()#将模型设置为评估模式\n",
    "    test_loss, correct = 0, 0\n",
    "    #上下文管理器禁用梯度计算，因为在测试阶段不需要计算梯度，这样可以节省内存并加快计算速度\n",
    "    with torch.no_grad(): \n",
    "        for x, y in dataloader:\n",
    "            x, y = x.to(device), y.to(device)  # 使用小写变量名并移到设备上\n",
    "            pred = model(x)   # 模型前向传播，得到预测结果\n",
    "            test_loss += loss_fn(pred, y).item() # 累加损失值\n",
    "            correct += (pred.argmax(1) == y).type(torch.float).sum().item()\n",
    "    test_loss /= num_batches # 计算平均损失\n",
    "    correct /= size  # 计算准确率\n",
    "    print(f\"Test Error: \\n Accuracy: {(100*correct):>0.1f}%, Avg loss: {test_loss:>8f} \\n\")"
   ]
  },
  {
   "cell_type": "markdown",
   "id": "cd601aec-d8ad-450c-898d-ba91ec291839",
   "metadata": {
    "collapsed": false,
    "jupyter": {
     "outputs_hidden": false
    }
   },
   "source": [
    "test_loss /= num_batches：计算所有批次的平均损失\n",
    "correct /= size：计算整体准确率（正确预测数/总样本数）\n",
    "##### 总结\n",
    "这个测试函数的作用是：\n",
    "在测试数据上评估模型性能\n",
    "计算并显示模型的准确率和平均损失\n",
    "通过禁用梯度计算来提高效率\n",
    "使用模型的评估模式确保测试结果的准确性\n",
    "在整个训练过程中，每个训练周期（epoch）结束后都会调用此函数来监控模型在测试集上的表现。"
   ]
  },
  {
   "cell_type": "code",
   "execution_count": 38,
   "id": "c71d7228a1e80acc",
   "metadata": {
    "ExecuteTime": {
     "end_time": "2025-07-26T19:46:16.688866Z",
     "start_time": "2025-07-26T19:45:54.331435Z"
    },
    "collapsed": false,
    "jupyter": {
     "outputs_hidden": false
    }
   },
   "outputs": [
    {
     "name": "stdout",
     "output_type": "stream",
     "text": [
      "Epoch 1\n",
      "-------------------------------\n",
      "loss: 2.311160  [   64/60000]\n",
      "loss: 2.294242  [ 6464/60000]\n",
      "loss: 2.272251  [12864/60000]\n",
      "loss: 2.266630  [19264/60000]\n",
      "loss: 2.248996  [25664/60000]\n",
      "loss: 2.215290  [32064/60000]\n",
      "loss: 2.226794  [38464/60000]\n",
      "loss: 2.186261  [44864/60000]\n",
      "loss: 2.195590  [51264/60000]\n",
      "loss: 2.155654  [57664/60000]\n",
      "Test Error: \n",
      " Accuracy: 50.7%, Avg loss: 2.150182 \n",
      "\n",
      "Epoch 2\n",
      "-------------------------------\n",
      "loss: 2.164162  [   64/60000]\n",
      "loss: 2.150600  [ 6464/60000]\n",
      "loss: 2.087692  [12864/60000]\n",
      "loss: 2.110382  [19264/60000]\n",
      "loss: 2.056096  [25664/60000]\n",
      "loss: 1.989452  [32064/60000]\n",
      "loss: 2.028219  [38464/60000]\n",
      "loss: 1.938230  [44864/60000]\n",
      "loss: 1.952982  [51264/60000]\n",
      "loss: 1.880563  [57664/60000]\n",
      "Test Error: \n",
      " Accuracy: 58.0%, Avg loss: 1.872142 \n",
      "\n",
      "Epoch 3\n",
      "-------------------------------\n",
      "loss: 1.907312  [   64/60000]\n",
      "loss: 1.875401  [ 6464/60000]\n",
      "loss: 1.747853  [12864/60000]\n",
      "loss: 1.802300  [19264/60000]\n",
      "loss: 1.686933  [25664/60000]\n",
      "loss: 1.633181  [32064/60000]\n",
      "loss: 1.672687  [38464/60000]\n",
      "loss: 1.565122  [44864/60000]\n",
      "loss: 1.595927  [51264/60000]\n",
      "loss: 1.496690  [57664/60000]\n",
      "Test Error: \n",
      " Accuracy: 61.4%, Avg loss: 1.504719 \n",
      "\n",
      "Epoch 4\n",
      "-------------------------------\n",
      "loss: 1.573960  [   64/60000]\n",
      "loss: 1.539568  [ 6464/60000]\n",
      "loss: 1.380454  [12864/60000]\n",
      "loss: 1.465272  [19264/60000]\n",
      "loss: 1.339730  [25664/60000]\n",
      "loss: 1.334957  [32064/60000]\n",
      "loss: 1.363758  [38464/60000]\n",
      "loss: 1.284188  [44864/60000]\n",
      "loss: 1.321421  [51264/60000]\n",
      "loss: 1.227427  [57664/60000]\n",
      "Test Error: \n",
      " Accuracy: 62.5%, Avg loss: 1.246261 \n",
      "\n",
      "Epoch 5\n",
      "-------------------------------\n",
      "loss: 1.325446  [   64/60000]\n",
      "loss: 1.308387  [ 6464/60000]\n",
      "loss: 1.134443  [12864/60000]\n",
      "loss: 1.249583  [19264/60000]\n",
      "loss: 1.117820  [25664/60000]\n",
      "loss: 1.143182  [32064/60000]\n",
      "loss: 1.176491  [38464/60000]\n",
      "loss: 1.110969  [44864/60000]\n",
      "loss: 1.151897  [51264/60000]\n",
      "loss: 1.071890  [57664/60000]\n",
      "Test Error: \n",
      " Accuracy: 63.9%, Avg loss: 1.087147 \n",
      "\n",
      "Done!\n"
     ]
    }
   ],
   "source": [
    "# 训练模型\n",
    "epochs = 5\n",
    "for t in range(epochs):\n",
    "    print(f\"Epoch {t+1}\\n-------------------------------\")\n",
    "    train(train_dataloader, model, loss_fn, optimizer)\n",
    "    test(test_dataloader, model, loss_fn)\n",
    "print(\"Done!\")"
   ]
  },
  {
   "cell_type": "markdown",
   "id": "ea877669-88be-4732-be4d-01d3091e8be7",
   "metadata": {},
   "source": [
    "Saving Models\n",
    "A common way to save a model is to serialize the internal state dictionary (containing the model parameters)."
   ]
  },
  {
   "cell_type": "code",
   "execution_count": null,
   "id": "3ea12430a8d3aa1b",
   "metadata": {
    "collapsed": false,
    "jupyter": {
     "outputs_hidden": false
    }
   },
   "outputs": [],
   "source": [
    "torch.save(model.state_dict(), \"model.pth\")\n",
    "print(\"Saved PyTorch Model State to model.pth\")"
   ]
  },
  {
   "cell_type": "markdown",
   "id": "fbb143f8-78df-433c-bbd5-06eab7a2855f",
   "metadata": {
    "collapsed": false,
    "jupyter": {
     "outputs_hidden": false
    }
   },
   "source": [
    "Loading Models\n",
    "The process for loading a model includes re-creating the model structure and loading the state dictionary into it."
   ]
  },
  {
   "cell_type": "code",
   "execution_count": null,
   "id": "cf10f02759b616bd",
   "metadata": {
    "collapsed": false,
    "jupyter": {
     "outputs_hidden": false
    }
   },
   "outputs": [],
   "source": [
    "model = NeuralNetwork().to(device)\n",
    "model.load_state_dict(torch.load(\"model.pth\", weights_only=True))"
   ]
  },
  {
   "cell_type": "code",
   "execution_count": null,
   "id": "6b0da770da38ec19",
   "metadata": {
    "collapsed": false,
    "jupyter": {
     "outputs_hidden": false
    }
   },
   "outputs": [],
   "source": []
  }
 ],
 "metadata": {
  "kernelspec": {
   "display_name": "Python 3 (ipykernel)",
   "language": "python",
   "name": "python3"
  },
  "language_info": {
   "codemirror_mode": {
    "name": "ipython",
    "version": 3
   },
   "file_extension": ".py",
   "mimetype": "text/x-python",
   "name": "python",
   "nbconvert_exporter": "python",
   "pygments_lexer": "ipython3",
   "version": "3.12.3"
  }
 },
 "nbformat": 4,
 "nbformat_minor": 5
}
