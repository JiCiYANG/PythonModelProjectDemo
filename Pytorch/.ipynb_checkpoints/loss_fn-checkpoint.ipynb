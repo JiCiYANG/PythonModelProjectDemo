{
 "cells": [
  {
   "cell_type": "markdown",
   "id": "92f9e6e1-603c-4ac1-8de5-32061c84c931",
   "metadata": {},
   "source": [
    "### 损失函数的定义\n",
    "损失函数是用来衡量模型预测值与真实值之间差异的函数。它量化了模型预测的准确性，值越小表示模型预测越准确。\n",
    "loss_fn = nn.CrossEntropyLoss()\n",
    "这是一个专门用于分类任务的损失函数，特别适用于多类别分类问题（如FashionMNIST有10个类别）。\n",
    "损失函数的作用\n",
    "评估模型性能：通过计算预测值与真实值之间的差距来评估模型的好坏\n",
    "指导模型训练：损失函数的梯度用于反向传播，指导模型参数的更新方向\n",
    "优化目标：训练过程的目标就是最小化损失函数值"
   ]
  },
  {
   "cell_type": "markdown",
   "id": "291a57d1-ffa8-425a-9fb8-79e91e554197",
   "metadata": {},
   "source": [
    "### 工作流程\n",
    "在训练过程中：\n",
    "模型对输入数据进行预测\n",
    "使用损失函数计算预测值与真实标签之间的误差\n",
    "通过反向传播计算损失函数相对于模型参数的梯度\n",
    "优化器根据梯度更新模型参数，以减小损失值\n",
    "常见的损失函数类型\n",
    "CrossEntropyLoss：用于分类任务（如代码中使用的）\n",
    "MSELoss：用于回归任务，计算均方误差\n",
    "BCELoss：用于二分类任务\n",
    "在您的代码中，CrossEntropyLoss非常适合FashionMNIST分类任务，它会自动处理softmax激活和负对数似然损失的计算"
   ]
  },
  {
   "cell_type": "code",
   "execution_count": null,
   "id": "eb4873de-70f4-487d-b985-e159b7273615",
   "metadata": {},
   "outputs": [],
   "source": [
    "# 定义损失函数和优化器\n",
    "loss_fn = nn.CrossEntropyLoss()\n",
    "# 使用随机梯度下降（SGD）作为优化算法\n",
    "optimizer = torch.optim.SGD(model.parameters(), lr=1e-3)# 设置学习率为0.001"
   ]
  },
  {
   "cell_type": "markdown",
   "id": "34b74eb4-2276-4223-94ac-b72425f3e12e",
   "metadata": {},
   "source": [
    "#### SGD（Stochastic Gradient Descent，随机梯度下降）是深度学习中最基础且广泛使用的优化算法之一\n",
    "1. 基本概念\n",
    "SGD是梯度下降算法的随机变种，其核心思想是：\n",
    "梯度下降：沿着目标函数梯度的反方向更新参数以最小化损失\n",
    "随机性：每次使用一个样本或一小批样本来估计梯度，而非全部数据\n",
    "\n",
    "2. 数学原理\n",
    "参数更新公式\n",
    "θ = θ - η × ∇J(θ; x_i; y_i)\n",
    "其中：\n",
    "θ 是模型参数\n",
    "η 是学习率（learning rate）\n",
    "∇J(θ; x_i; y_i) 是损失函数对参数的梯度\n",
    "3. 与标准梯度下降的区别\n",
    "批量梯度下降：使用全部训练数据计算梯度｜稳定，收敛到全局最优｜计算开销大，速度慢。\n",
    "SGD：每次使用一个样本更新参数｜计算快，可在线学习｜更新不稳定，可能不收敛\n",
    "小批量SGD：使用小批量数据更新参数｜平衡了前两者优缺点｜需要调整批量大小"
   ]
  },
  {
   "cell_type": "code",
   "execution_count": null,
   "id": "f535b93f-d754-464c-a922-a2adf599ae2f",
   "metadata": {},
   "outputs": [],
   "source": []
  },
  {
   "cell_type": "code",
   "execution_count": null,
   "id": "2328f7c1-b883-4066-9628-aa81a697c05d",
   "metadata": {},
   "outputs": [],
   "source": []
  },
  {
   "cell_type": "code",
   "execution_count": null,
   "id": "bde3b1a3-f431-4555-b6fb-53d22aaa1e28",
   "metadata": {},
   "outputs": [],
   "source": []
  }
 ],
 "metadata": {
  "kernelspec": {
   "display_name": "Python (llm-env)",
   "language": "python",
   "name": "llm-env"
  },
  "language_info": {
   "codemirror_mode": {
    "name": "ipython",
    "version": 3
   },
   "file_extension": ".py",
   "mimetype": "text/x-python",
   "name": "python",
   "nbconvert_exporter": "python",
   "pygments_lexer": "ipython3",
   "version": "3.12.3"
  }
 },
 "nbformat": 4,
 "nbformat_minor": 5
}
